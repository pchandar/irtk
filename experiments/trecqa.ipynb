{
 "cells": [
  {
   "cell_type": "code",
   "execution_count": 42,
   "metadata": {
    "ExecuteTime": {
     "end_time": "2016-06-28T11:09:17.356551",
     "start_time": "2016-06-28T11:09:17.353032"
    },
    "collapsed": false,
    "run_control": {
     "frozen": false,
     "read_only": false
    }
   },
   "outputs": [],
   "source": [
    "import os\n",
    "import string\n",
    "translator = str.maketrans({key: None for key in string.punctuation.replace('?','')})\n",
    "import re"
   ]
  },
  {
   "cell_type": "code",
   "execution_count": 45,
   "metadata": {
    "ExecuteTime": {
     "end_time": "2016-06-28T11:15:36.247080",
     "start_time": "2016-06-28T11:15:36.239467"
    },
    "collapsed": false
   },
   "outputs": [],
   "source": [
    "with open('/Users/pcravich/data/collections/trecQA/train.question') as of:\n",
    "    cnt = 1\n",
    "    questions = []\n",
    "    while True:\n",
    "        line = of.readline().strip()\n",
    "        if line.startswith('<') and not line.startswith('</'):\n",
    "            question = of.readline().strip()\n",
    "            cnt += 1\n",
    "            question = question.replace('\\t', ' ')\n",
    "            question = question.translate(translator)\n",
    "            question = re.sub(' +',' ', question)\n",
    "            questions.append(question + ',NoConf,NoConf')\n",
    "        if of.readline() == '':\n",
    "            break"
   ]
  },
  {
   "cell_type": "code",
   "execution_count": 49,
   "metadata": {
    "ExecuteTime": {
     "end_time": "2016-06-28T11:20:34.441633",
     "start_time": "2016-06-28T11:20:34.438518"
    },
    "collapsed": false
   },
   "outputs": [],
   "source": [
    "with open('/Users/pcravich/repo/research-code/pychia/dataset/nlc/jun27/test_data_new.csv', 'w') as of:\n",
    "    of.write('\\n'.join(questions))"
   ]
  },
  {
   "cell_type": "code",
   "execution_count": null,
   "metadata": {
    "collapsed": true
   },
   "outputs": [],
   "source": [
    ""
   ]
  }
 ],
 "metadata": {
  "kernelspec": {
   "display_name": "Python 3",
   "language": "python",
   "name": "python3"
  },
  "language_info": {
   "codemirror_mode": {
    "name": "ipython",
    "version": 3.0
   },
   "file_extension": ".py",
   "mimetype": "text/x-python",
   "name": "python",
   "nbconvert_exporter": "python",
   "pygments_lexer": "ipython3",
   "version": "3.5.1"
  }
 },
 "nbformat": 4,
 "nbformat_minor": 0
}
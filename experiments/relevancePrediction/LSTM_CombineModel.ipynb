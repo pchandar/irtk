{
 "cells": [
  {
   "cell_type": "code",
   "execution_count": 1,
   "metadata": {
    "collapsed": false
   },
   "outputs": [
    {
     "name": "stderr",
     "output_type": "stream",
     "text": [
      "WARNING (theano.sandbox.cuda): CUDA is installed, but device gpu is not available  (error: Unable to get the number of gpus available: CUDA driver version is insufficient for CUDA runtime version)\n",
      "WARNING:theano.sandbox.cuda:CUDA is installed, but device gpu is not available  (error: Unable to get the number of gpus available: CUDA driver version is insufficient for CUDA runtime version)\n"
     ]
    },
    {
     "name": "stdout",
     "output_type": "stream",
     "text": [
      "Using Theano backend.\n"
     ]
    },
    {
     "name": "stderr",
     "output_type": "stream",
     "text": [
      "//anaconda/lib/python2.7/site-packages/Theano-0.8.0.dev0-py2.7.egg/theano/tensor/signal/downsample.py:5: UserWarning: downsample module has been moved to the pool module.\n",
      "  warnings.warn(\"downsample module has been moved to the pool module.\")\n"
     ]
    }
   ],
   "source": [
    "import theano\n",
    "from keras.preprocessing import sequence\n",
    "from keras.models import Sequential\n",
    "from keras.layers.core import Dense, Dropout, Activation, Merge\n",
    "from keras.layers.embeddings import Embedding\n",
    "from keras.layers.recurrent import LSTM, GRU\n",
    "from keras.preprocessing.text import Tokenizer\n",
    "from keras.regularizers import l1\n",
    "\n",
    "import numpy as np\n",
    "import pickle\n",
    "import nltk\n",
    "import re\n",
    "import argparse\n",
    "\n",
    "%matplotlib inline \n",
    "import numpy as np\n",
    "import matplotlib.mlab as mlab\n",
    "import matplotlib.pyplot as plt"
   ]
  },
  {
   "cell_type": "code",
   "execution_count": 2,
   "metadata": {
    "collapsed": true
   },
   "outputs": [],
   "source": [
    "from sklearn.metrics import mean_squared_error\n",
    "def performance(y, y_pred):\n",
    "     return mean_squared_error(y, y_pred)**0.5"
   ]
  },
  {
   "cell_type": "code",
   "execution_count": 3,
   "metadata": {
    "collapsed": false
   },
   "outputs": [],
   "source": [
    "import pandas as pd\n",
    "\n",
    "working_dir = '/Users/praveen/work/data/kaggle/homeDepotRelPredict/'\n",
    "\n",
    "# Load Training Data\n",
    "train_data = pd.read_csv(working_dir + 'train.csv')\n",
    "product_data = pd.read_csv(working_dir + 'product_descriptions.csv')\n",
    "attributes_data = pd.read_csv(working_dir + 'attributes.csv')\n",
    "qTxt = list(train_data['search_term'])\n",
    "titleTxt = list(train_data['product_title'])"
   ]
  },
  {
   "cell_type": "code",
   "execution_count": 4,
   "metadata": {
    "collapsed": false
   },
   "outputs": [],
   "source": [
    "# Tokenize QueryText and Title Text\n",
    "tokenizer = Tokenizer(50000)\n",
    "tokenizer.fit_on_texts(titleTxt)"
   ]
  },
  {
   "cell_type": "code",
   "execution_count": 5,
   "metadata": {
    "collapsed": true
   },
   "outputs": [],
   "source": [
    "X_title = tokenizer.texts_to_matrix(titleTxt, mode='tfidf')\n",
    "X_query = tokenizer.texts_to_matrix(qTxt, mode='tfidf')"
   ]
  },
  {
   "cell_type": "code",
   "execution_count": 6,
   "metadata": {
    "collapsed": false
   },
   "outputs": [],
   "source": [
    "#X_title = sequence.pad_sequences(titleSequences, maxlen=100)\n",
    "#X_query = sequence.pad_sequences(querySequences, maxlen=20)\n",
    "Y_all = train_data['relevance'] "
   ]
  },
  {
   "cell_type": "code",
   "execution_count": 9,
   "metadata": {
    "collapsed": false
   },
   "outputs": [
    {
     "name": "stdout",
     "output_type": "stream",
     "text": [
      "building graph...\n",
      "done.\n"
     ]
    }
   ],
   "source": [
    "epochs = 5\n",
    "print \"building graph...\"\n",
    "from keras.regularizers import l2, activity_l2\n",
    "query_model = Sequential()\n",
    "#query_model.add(Embedding(10000, 128, input_length=10))\n",
    "#query_model.add(GRU(128))\n",
    "#query_model.add(Dropout(0.5))\n",
    "query_model.add(Dense(16, input_dim=50000, activation='sigmoid'))\n",
    "query_model.add(Dropout(0.5))\n",
    "\n",
    "\n",
    "\n",
    "\n",
    "text_model = Sequential()\n",
    "#text_model.add(Embedding(10000, 128, input_length=100))\n",
    "#text_model.add(GRU(128))\n",
    "#text_model.add(Dropout(0.5))\n",
    "text_model.add(Dense(16,input_dim=50000, activation='sigmoid'))\n",
    "text_model.add(Dropout(0.5))\n",
    "\n",
    "combined_model = Sequential()\n",
    "combined_model.add(Merge([query_model, text_model], mode='dot'))\n",
    "combined_model.add(Dense(64))\n",
    "combined_model.add(Dropout(0.5))\n",
    "combined_model.add(Dense(1))\n",
    "combined_model.compile(loss='mse', optimizer='adam')\n",
    "print \"done.\"\n"
   ]
  },
  {
   "cell_type": "code",
   "execution_count": 10,
   "metadata": {
    "collapsed": false
   },
   "outputs": [
    {
     "name": "stdout",
     "output_type": "stream",
     "text": [
      "Train on 47402 samples, validate on 11851 samples\n",
      "Epoch 1/5\n",
      "47402/47402 [==============================] - 114s - loss: 2.2325 - val_loss: 0.4161\n",
      "Epoch 2/5\n",
      "47402/47402 [==============================] - 116s - loss: 1.2098 - val_loss: 0.3693\n",
      "Epoch 3/5\n",
      "47402/47402 [==============================] - 119s - loss: 0.8002 - val_loss: 0.3201\n",
      "Epoch 4/5\n",
      "47402/47402 [==============================] - 120s - loss: 0.5721 - val_loss: 0.2927\n",
      "Epoch 5/5\n",
      "47402/47402 [==============================] - 125s - loss: 0.4620 - val_loss: 0.2857\n"
     ]
    },
    {
     "data": {
      "text/plain": [
       "<keras.callbacks.History at 0xeffedc2d0>"
      ]
     },
     "execution_count": 10,
     "metadata": {},
     "output_type": "execute_result"
    }
   ],
   "source": [
    "batch_size = 500\n",
    "epoch = 5\n",
    "startIndex = 0\n",
    "endIndex = int(len(X_query) * .8) \n",
    "combined_model.fit([X_query[startIndex:endIndex], X_title[startIndex:endIndex]], Y_all[startIndex:endIndex], batch_size=batch_size, nb_epoch=epoch, validation_split=.2,shuffle=True, show_accuracy=False)"
   ]
  },
  {
   "cell_type": "code",
   "execution_count": null,
   "metadata": {
    "collapsed": false
   },
   "outputs": [],
   "source": [
    "startIndex = int(len(X_query) * .8)\n",
    "endIndex = len(X_query)\n",
    "#startIndex =int(len(X_query) * .3)\n",
    "#endIndex = int(len(X_query) * .9) \n",
    "labels = Y_all[startIndex:endIndex]\n",
    "print \"predicting...\"\n",
    "y_pred = combined_model.predict_proba([X_query[startIndex:endIndex], X_title[startIndex:endIndex]], batch_size=batch_size)\n",
    "performance(y_pred, labels)\n"
   ]
  },
  {
   "cell_type": "code",
   "execution_count": null,
   "metadata": {
    "collapsed": false
   },
   "outputs": [],
   "source": [
    "plt.hist(y_pred)\n",
    "plt.show()"
   ]
  },
  {
   "cell_type": "code",
   "execution_count": null,
   "metadata": {
    "collapsed": false
   },
   "outputs": [],
   "source": [
    "startIndex = 0\n",
    "endIndex = int(len(X_query) * .8)\n",
    "#startIndex = int(len(X_query) * .8)\n",
    "#endIndex = len(X_query)\n",
    "labels = Y_all[startIndex:endIndex]\n",
    "plt.hist(list(labels))\n",
    "plt.show()"
   ]
  },
  {
   "cell_type": "code",
   "execution_count": null,
   "metadata": {
    "collapsed": false
   },
   "outputs": [],
   "source": [
    "y_pred = combined_model.evaluate([X_query[startIndex:endIndex], X_title[startIndex:endIndex]],Y_all[startIndex:endIndex], batch_size=batch_size, verbose=1)\n",
    "print y_pred**0.5"
   ]
  },
  {
   "cell_type": "code",
   "execution_count": null,
   "metadata": {
    "collapsed": true
   },
   "outputs": [],
   "source": []
  }
 ],
 "metadata": {
  "kernelspec": {
   "display_name": "Python 2",
   "language": "python",
   "name": "python2"
  },
  "language_info": {
   "codemirror_mode": {
    "name": "ipython",
    "version": 2
   },
   "file_extension": ".py",
   "mimetype": "text/x-python",
   "name": "python",
   "nbconvert_exporter": "python",
   "pygments_lexer": "ipython2",
   "version": "2.7.11"
  }
 },
 "nbformat": 4,
 "nbformat_minor": 0
}
